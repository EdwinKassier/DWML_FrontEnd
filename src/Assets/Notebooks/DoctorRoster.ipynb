{
  "nbformat": 4,
  "nbformat_minor": 0,
  "metadata": {
    "colab": {
      "name": "DoctorRoster.ipynb",
      "provenance": [],
      "collapsed_sections": []
    },
    "kernelspec": {
      "name": "python3",
      "display_name": "Python 3"
    },
    "language_info": {
      "name": "python"
    },
    "widgets": {
      "application/vnd.jupyter.widget-state+json": {
        "e605001cbf5a4de7a77e2ff473196ede": {
          "model_module": "@jupyter-widgets/controls",
          "model_name": "SelectionRangeSliderModel",
          "model_module_version": "1.5.0",
          "state": {
            "_options_labels": [
              "Jan",
              "Feb",
              "Mar",
              "Apr",
              "May",
              "Jun",
              "Jul",
              "Aug",
              "Sep",
              "Oct",
              "Nov",
              "Dec"
            ],
            "_view_name": "SelectionRangeSliderView",
            "style": "IPY_MODEL_90c5c3d18d194017bbebb59d8119925d",
            "_dom_classes": [],
            "description": "Months",
            "_model_name": "SelectionRangeSliderModel",
            "orientation": "horizontal",
            "index": [
              0,
              11
            ],
            "_view_module": "@jupyter-widgets/controls",
            "_model_module_version": "1.5.0",
            "_view_count": null,
            "disabled": false,
            "_view_module_version": "1.5.0",
            "continuous_update": true,
            "description_tooltip": null,
            "readout": true,
            "_model_module": "@jupyter-widgets/controls",
            "layout": "IPY_MODEL_0c76776009754db49202c158de7acb31"
          }
        },
        "90c5c3d18d194017bbebb59d8119925d": {
          "model_module": "@jupyter-widgets/controls",
          "model_name": "DescriptionStyleModel",
          "model_module_version": "1.5.0",
          "state": {
            "_view_name": "StyleView",
            "_model_name": "DescriptionStyleModel",
            "description_width": "",
            "_view_module": "@jupyter-widgets/base",
            "_model_module_version": "1.5.0",
            "_view_count": null,
            "_view_module_version": "1.2.0",
            "_model_module": "@jupyter-widgets/controls"
          }
        },
        "0c76776009754db49202c158de7acb31": {
          "model_module": "@jupyter-widgets/base",
          "model_name": "LayoutModel",
          "model_module_version": "1.2.0",
          "state": {
            "_view_name": "LayoutView",
            "grid_template_rows": null,
            "right": null,
            "justify_content": null,
            "_view_module": "@jupyter-widgets/base",
            "overflow": null,
            "_model_module_version": "1.2.0",
            "_view_count": null,
            "flex_flow": null,
            "width": null,
            "min_width": null,
            "border": null,
            "align_items": null,
            "bottom": null,
            "_model_module": "@jupyter-widgets/base",
            "top": null,
            "grid_column": null,
            "overflow_y": null,
            "overflow_x": null,
            "grid_auto_flow": null,
            "grid_area": null,
            "grid_template_columns": null,
            "flex": null,
            "_model_name": "LayoutModel",
            "justify_items": null,
            "grid_row": null,
            "max_height": null,
            "align_content": null,
            "visibility": null,
            "align_self": null,
            "height": null,
            "min_height": null,
            "padding": null,
            "grid_auto_rows": null,
            "grid_gap": null,
            "max_width": null,
            "order": null,
            "_view_module_version": "1.2.0",
            "grid_template_areas": null,
            "object_position": null,
            "object_fit": null,
            "grid_auto_columns": null,
            "margin": null,
            "display": null,
            "left": null
          }
        },
        "9afc669c25d4434b925ed8cc9d0884ab": {
          "model_module": "@jupyter-widgets/controls",
          "model_name": "IntSliderModel",
          "model_module_version": "1.5.0",
          "state": {
            "_view_name": "IntSliderView",
            "style": "IPY_MODEL_ab4ea5957d4847ceaa1953b9cd8ff858",
            "_dom_classes": [],
            "description": "Num Doctors:",
            "step": 1,
            "_model_name": "IntSliderModel",
            "orientation": "vertical",
            "max": 30,
            "_view_module": "@jupyter-widgets/controls",
            "_model_module_version": "1.5.0",
            "value": 1,
            "_view_count": null,
            "disabled": false,
            "_view_module_version": "1.5.0",
            "min": 0,
            "continuous_update": false,
            "readout_format": "d",
            "description_tooltip": null,
            "readout": true,
            "_model_module": "@jupyter-widgets/controls",
            "layout": "IPY_MODEL_8e7caa8197f44274b2695b252f81a348"
          }
        },
        "ab4ea5957d4847ceaa1953b9cd8ff858": {
          "model_module": "@jupyter-widgets/controls",
          "model_name": "SliderStyleModel",
          "model_module_version": "1.5.0",
          "state": {
            "_view_name": "StyleView",
            "handle_color": null,
            "_model_name": "SliderStyleModel",
            "description_width": "",
            "_view_module": "@jupyter-widgets/base",
            "_model_module_version": "1.5.0",
            "_view_count": null,
            "_view_module_version": "1.2.0",
            "_model_module": "@jupyter-widgets/controls"
          }
        },
        "8e7caa8197f44274b2695b252f81a348": {
          "model_module": "@jupyter-widgets/base",
          "model_name": "LayoutModel",
          "model_module_version": "1.2.0",
          "state": {
            "_view_name": "LayoutView",
            "grid_template_rows": null,
            "right": null,
            "justify_content": null,
            "_view_module": "@jupyter-widgets/base",
            "overflow": null,
            "_model_module_version": "1.2.0",
            "_view_count": null,
            "flex_flow": null,
            "width": null,
            "min_width": null,
            "border": null,
            "align_items": null,
            "bottom": null,
            "_model_module": "@jupyter-widgets/base",
            "top": null,
            "grid_column": null,
            "overflow_y": null,
            "overflow_x": null,
            "grid_auto_flow": null,
            "grid_area": null,
            "grid_template_columns": null,
            "flex": null,
            "_model_name": "LayoutModel",
            "justify_items": null,
            "grid_row": null,
            "max_height": null,
            "align_content": null,
            "visibility": null,
            "align_self": null,
            "height": null,
            "min_height": null,
            "padding": null,
            "grid_auto_rows": null,
            "grid_gap": null,
            "max_width": null,
            "order": null,
            "_view_module_version": "1.2.0",
            "grid_template_areas": null,
            "object_position": null,
            "object_fit": null,
            "grid_auto_columns": null,
            "margin": null,
            "display": null,
            "left": null
          }
        }
      }
    }
  },
  "cells": [
    {
      "cell_type": "markdown",
      "metadata": {
        "id": "Prhj2iS0BwPx"
      },
      "source": [
        "# Roctor Doster\n",
        "---\n",
        "\n",
        "This notebook aims to solve something of a personal issue of mine. My girlfriend works in the healthcare industry, so she is on call at the hospital four plus times a month. Part of this process is setting up a call roster which is a huge headache all around as the roster needs to give each doctor an almost equal number of calls whilst also catering to requests for calls on certain days. The model set out below will provide the optimum roster allocations whilst simultaneously meeting as many call requests as possible. This is but the first step in my master plan to put doctors out of work"
      ]
    },
    {
      "cell_type": "code",
      "metadata": {
        "colab": {
          "base_uri": "https://localhost:8080/",
          "height": 301
        },
        "id": "1LgK9TrTEDYa",
        "outputId": "82b2c807-9e4e-4e38-f5b3-084e6d6a094d"
      },
      "source": [
        "from IPython.display import Image\n",
        "Image(url='https://media4.giphy.com/media/Rghq9s8RwVRyFxYYvB/giphy.gif')"
      ],
      "execution_count": null,
      "outputs": [
        {
          "output_type": "execute_result",
          "data": {
            "text/html": [
              "<img src=\"https://media4.giphy.com/media/Rghq9s8RwVRyFxYYvB/giphy.gif\"/>"
            ],
            "text/plain": [
              "<IPython.core.display.Image object>"
            ]
          },
          "metadata": {
            "tags": []
          },
          "execution_count": 14
        }
      ]
    },
    {
      "cell_type": "code",
      "metadata": {
        "colab": {
          "base_uri": "https://localhost:8080/",
          "height": 321
        },
        "id": "upKYhOre1-n1",
        "outputId": "7da6b33a-f854-45c5-cb6f-445dbc8f470b"
      },
      "source": [
        "!pip install ortools"
      ],
      "execution_count": null,
      "outputs": [
        {
          "output_type": "stream",
          "text": [
            "Collecting ortools\n",
            "\u001b[?25l  Downloading https://files.pythonhosted.org/packages/6a/bd/75277072925d687aa35a6ea9e23e81a7f6b7c980b2a80949c5b9a3f98c79/ortools-9.0.9048-cp37-cp37m-manylinux1_x86_64.whl (14.4MB)\n",
            "\u001b[K     |████████████████████████████████| 14.4MB 282kB/s \n",
            "\u001b[?25hCollecting protobuf>=3.15.8\n",
            "\u001b[?25l  Downloading https://files.pythonhosted.org/packages/4c/53/ddcef00219f2a3c863b24288e24a20c3070bd086a1e77706f22994a7f6db/protobuf-3.17.3-cp37-cp37m-manylinux_2_5_x86_64.manylinux1_x86_64.whl (1.0MB)\n",
            "\u001b[K     |████████████████████████████████| 1.0MB 28.1MB/s \n",
            "\u001b[?25hRequirement already satisfied: absl-py>=0.11 in /usr/local/lib/python3.7/dist-packages (from ortools) (0.12.0)\n",
            "Requirement already satisfied: six>=1.9 in /usr/local/lib/python3.7/dist-packages (from protobuf>=3.15.8->ortools) (1.15.0)\n",
            "Installing collected packages: protobuf, ortools\n",
            "  Found existing installation: protobuf 3.12.4\n",
            "    Uninstalling protobuf-3.12.4:\n",
            "      Successfully uninstalled protobuf-3.12.4\n",
            "Successfully installed ortools-9.0.9048 protobuf-3.17.3\n"
          ],
          "name": "stdout"
        },
        {
          "output_type": "display_data",
          "data": {
            "application/vnd.colab-display-data+json": {
              "pip_warning": {
                "packages": [
                  "google"
                ]
              }
            }
          },
          "metadata": {
            "tags": []
          }
        }
      ]
    },
    {
      "cell_type": "code",
      "metadata": {
        "id": "tHfeljjVSBl_"
      },
      "source": [
        "import datetime\n",
        "import ipywidgets as widgets"
      ],
      "execution_count": null,
      "outputs": []
    },
    {
      "cell_type": "markdown",
      "metadata": {
        "id": "4szQoMu7Rl8j"
      },
      "source": [
        "Let's see if we can provide a UI for users to input their choices into"
      ]
    },
    {
      "cell_type": "code",
      "metadata": {
        "colab": {
          "base_uri": "https://localhost:8080/",
          "height": 48,
          "referenced_widgets": [
            "e605001cbf5a4de7a77e2ff473196ede",
            "90c5c3d18d194017bbebb59d8119925d",
            "0c76776009754db49202c158de7acb31"
          ]
        },
        "id": "OW6v7Ms0QwJV",
        "outputId": "6f88df74-5ea3-4324-eb17-661d06e4bbd9"
      },
      "source": [
        "dates = [datetime.date(datetime.datetime.now().year, i, 1) for i in range(1, 13)]\n",
        "options = [(i.strftime('%b'), i) for i in dates]\n",
        "widgets.SelectionRangeSlider(\n",
        "    options=options,\n",
        "    index=(0, 11),\n",
        "    description='Months',\n",
        "    disabled=False\n",
        ")"
      ],
      "execution_count": null,
      "outputs": [
        {
          "output_type": "display_data",
          "data": {
            "application/vnd.jupyter.widget-view+json": {
              "model_id": "e605001cbf5a4de7a77e2ff473196ede",
              "version_minor": 0,
              "version_major": 2
            },
            "text/plain": [
              "SelectionRangeSlider(description='Months', index=(0, 11), options=(('Jan', datetime.date(2021, 1, 1)), ('Feb',…"
            ]
          },
          "metadata": {
            "tags": []
          }
        }
      ]
    },
    {
      "cell_type": "code",
      "metadata": {
        "colab": {
          "base_uri": "https://localhost:8080/",
          "height": 221,
          "referenced_widgets": [
            "9afc669c25d4434b925ed8cc9d0884ab",
            "ab4ea5957d4847ceaa1953b9cd8ff858",
            "8e7caa8197f44274b2695b252f81a348"
          ]
        },
        "id": "IcckGnQXSFnF",
        "outputId": "a45f5470-6fcc-46c3-930e-f76f5e0aeecf"
      },
      "source": [
        "widgets.IntSlider(\n",
        "    value=1,\n",
        "    min=0,\n",
        "    max=30,\n",
        "    step=1,\n",
        "    description='Num Doctors:',\n",
        "    disabled=False,\n",
        "    continuous_update=False,\n",
        "    orientation='vertical',\n",
        "    readout=True,\n",
        "    readout_format='d'\n",
        ")"
      ],
      "execution_count": null,
      "outputs": [
        {
          "output_type": "display_data",
          "data": {
            "application/vnd.jupyter.widget-view+json": {
              "model_id": "9afc669c25d4434b925ed8cc9d0884ab",
              "version_minor": 0,
              "version_major": 2
            },
            "text/plain": [
              "IntSlider(value=1, continuous_update=False, description='Num Doctors:', max=30, orientation='vertical')"
            ]
          },
          "metadata": {
            "tags": []
          }
        }
      ]
    },
    {
      "cell_type": "code",
      "metadata": {
        "colab": {
          "base_uri": "https://localhost:8080/"
        },
        "id": "GU9ms5NN1G37",
        "outputId": "45d04bf5-313d-429f-cba0-e0335e6ae41c"
      },
      "source": [
        "from ortools.sat.python import cp_model\n",
        "\n",
        "\n",
        "def main():\n",
        "    # This script tries to find an optimal assignment of doctors to shifts\n",
        "    # (2 shifts per day (as there needs to be two doctors on call on any day), for x days), subject to some constraints (see below).\n",
        "    # Each doctor can request to be assigned on a specific day.\n",
        "    # The optimal assignment maximizes the number of fulfilled shift requests.\n",
        "    num_doctors = 3\n",
        "    num_shifts = 2\n",
        "    num_days = 7\n",
        "    all_doctors = range(num_doctors)\n",
        "    all_shifts = range(num_shifts)\n",
        "    all_days = range(num_days)\n",
        "    shift_requests = [[[1,1], [0,0], [0,0], [0,0], [1,0],\n",
        "                       [1,0], [1,0]],\n",
        "                      [[0,0], [0,0], [1,0], [1,0], [1,0],\n",
        "                       [0,0], [1,0]],\n",
        "                      [[1,0], [0,0], [0,0], [1,0], [0,0],\n",
        "                       [1,0], [0,0]],\n",
        "                      ]\n",
        "    # Creates the model.\n",
        "    model = cp_model.CpModel()\n",
        "\n",
        "    #Output config info\n",
        "    print(f'Number of doctors: {num_doctors}')\n",
        "    print(f'Number of days in rotation: {num_days}\\n')\n",
        "\n",
        "    # Creates shift variables.\n",
        "    # shifts[(n, d, s)]: nurse 'n' works shift 's' on day 'd'.\n",
        "    shifts = {}\n",
        "    for n in all_doctors:\n",
        "        for d in all_days:\n",
        "            for s in all_shifts:\n",
        "                shifts[(n, d,\n",
        "                        s)] = model.NewBoolVar('shift_n%id%is%i' % (n, d, s))\n",
        "\n",
        "    # Each shift is assigned to exactly one nurse in .\n",
        "    for d in all_days:\n",
        "        for s in all_shifts:\n",
        "            model.Add(sum(shifts[(n, d, s)] for n in all_doctors) == 1)\n",
        "\n",
        "    # Each doctor works at most one shift per day.\n",
        "    for n in all_doctors:\n",
        "        for d in all_days:\n",
        "            model.Add(sum(shifts[(n, d, s)] for s in all_shifts) <= 1)\n",
        "\n",
        "    # Try to distribute the shifts evenly, so that each doctor works\n",
        "    # min_shifts_per_doctor shifts. If this is not possible, because the total\n",
        "    # number of shifts is not divisible by the number of doctors, some doctors will\n",
        "    # be assigned one more shift.\n",
        "    min_shifts_per_doctor = (num_shifts * num_days) // num_doctors\n",
        "    if num_shifts * num_days % num_doctors == 0:\n",
        "        max_shifts_per_doctor = min_shifts_per_doctor\n",
        "    else:\n",
        "        max_shifts_per_doctor = min_shifts_per_doctor + 1\n",
        "    for n in all_doctors:\n",
        "        num_shifts_worked = 0\n",
        "        for d in all_days:\n",
        "            for s in all_shifts:\n",
        "                num_shifts_worked += shifts[(n, d, s)]\n",
        "        model.Add(min_shifts_per_doctor <= num_shifts_worked)\n",
        "        model.Add(num_shifts_worked <= max_shifts_per_doctor)\n",
        "\n",
        "    # pylint: disable=g-complex-comprehension\n",
        "    model.Maximize(\n",
        "        sum(shift_requests[n][d][s] * shifts[(n, d, s)] for n in all_doctors\n",
        "            for d in all_days for s in all_shifts))\n",
        "    # Creates the solver and solve.\n",
        "    solver = cp_model.CpSolver()\n",
        "    solver.Solve(model)\n",
        "    for d in all_days:\n",
        "        print('Day', d+1)\n",
        "        for n in all_doctors:\n",
        "            for s in all_shifts:\n",
        "                if solver.Value(shifts[(n, d, s)]) == 1:\n",
        "                    if shift_requests[n][d][s] == 1:\n",
        "                        print('Doctor', n, 'works shift', s, '(requested).')\n",
        "                    else:\n",
        "                        print('Doctor', n, 'works shift', s, '(not requested).')\n",
        "        print()\n",
        "\n",
        "    # Statistics.\n",
        "    print()\n",
        "    print('Statistics')\n",
        "    print('  - Number of shift requests met = %i' % solver.ObjectiveValue(),\n",
        "          '(out of', num_doctors * min_shifts_per_doctor, ')')\n",
        "    print('  - wall time       : %f s' % solver.WallTime())\n",
        "\n",
        "\n",
        "if __name__ == '__main__':\n",
        "    main()"
      ],
      "execution_count": null,
      "outputs": [
        {
          "output_type": "stream",
          "text": [
            "Number of doctors: 3\n",
            "Number of days in rotation: 7\n",
            "\n",
            "Day 1\n",
            "Doctor 0 works shift 1 (requested).\n",
            "Doctor 2 works shift 0 (requested).\n",
            "\n",
            "Day 2\n",
            "Doctor 1 works shift 1 (not requested).\n",
            "Doctor 2 works shift 0 (not requested).\n",
            "\n",
            "Day 3\n",
            "Doctor 0 works shift 1 (not requested).\n",
            "Doctor 1 works shift 0 (requested).\n",
            "\n",
            "Day 4\n",
            "Doctor 0 works shift 1 (not requested).\n",
            "Doctor 2 works shift 0 (requested).\n",
            "\n",
            "Day 5\n",
            "Doctor 1 works shift 0 (requested).\n",
            "Doctor 2 works shift 1 (not requested).\n",
            "\n",
            "Day 6\n",
            "Doctor 0 works shift 0 (requested).\n",
            "Doctor 1 works shift 1 (not requested).\n",
            "\n",
            "Day 7\n",
            "Doctor 0 works shift 0 (requested).\n",
            "Doctor 1 works shift 1 (not requested).\n",
            "\n",
            "\n",
            "Statistics\n",
            "  - Number of shift requests met = 7 (out of 12 )\n",
            "  - wall time       : 0.002659 s\n"
          ],
          "name": "stdout"
        }
      ]
    }
  ]
}